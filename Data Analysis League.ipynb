{
 "cells": [
  {
   "cell_type": "markdown",
   "id": "798a5ccb",
   "metadata": {},
   "source": [
    "# Análise de Dados - League Of Legends\n",
    "\n",
    "##### Projeto desenvolvido para estudo estatístico.\n",
    "* Estudos de correlação, regressão linear, frequência e proporção"
   ]
  },
  {
   "cell_type": "code",
   "execution_count": 4,
   "id": "1ea16b01",
   "metadata": {},
   "outputs": [],
   "source": [
    "import pandas as pd\n",
    "import numpy as np\n",
    "import seaborn as sns\n",
    "import matplotlib.pyplot as plt\n",
    "from sklearn.linear_model import LinearRegression"
   ]
  },
  {
   "cell_type": "code",
   "execution_count": 5,
   "id": "e6424e3b",
   "metadata": {},
   "outputs": [],
   "source": [
    "class DataProcessor:\n",
    "    def __init__(self, data):\n",
    "        self.data = data\n",
    "    \n",
    "    def get_numeric_data(self):\n",
    "        numeric_data = self.data.select_dtypes(include=['number'])\n",
    "        return numeric_data\n",
    "    \n",
    "    def get_string_data(self):\n",
    "        string_data = self.data.select_dtypes(include=['object'])\n",
    "        return string_data"
   ]
  },
  {
   "cell_type": "markdown",
   "id": "8da209db",
   "metadata": {},
   "source": [
    "### Leitura do Dataset, tratamento de valores nulos e colunas"
   ]
  },
  {
   "cell_type": "code",
   "execution_count": 6,
   "id": "c405a379",
   "metadata": {},
   "outputs": [],
   "source": [
    "# Leitura e renomeação de colunas.\n",
    "path = \"data/LOL.csv\"\n",
    "df = pd.read_csv(path)\n",
    "df.rename(columns={'Attack_Demage': 'Attack_Damage'}, inplace=True)"
   ]
  },
  {
   "cell_type": "code",
   "execution_count": 7,
   "id": "aedaff42",
   "metadata": {},
   "outputs": [
    {
     "data": {
      "text/html": [
       "<div>\n",
       "<style scoped>\n",
       "    .dataframe tbody tr th:only-of-type {\n",
       "        vertical-align: middle;\n",
       "    }\n",
       "\n",
       "    .dataframe tbody tr th {\n",
       "        vertical-align: top;\n",
       "    }\n",
       "\n",
       "    .dataframe thead th {\n",
       "        text-align: right;\n",
       "    }\n",
       "</style>\n",
       "<table border=\"1\" class=\"dataframe\">\n",
       "  <thead>\n",
       "    <tr style=\"text-align: right;\">\n",
       "      <th></th>\n",
       "      <th>ID</th>\n",
       "      <th>Champion_Name</th>\n",
       "      <th>Primary_Role</th>\n",
       "      <th>Primary_Location</th>\n",
       "      <th>Health</th>\n",
       "      <th>Mana</th>\n",
       "      <th>Health_Regen</th>\n",
       "      <th>Mana_Regen</th>\n",
       "      <th>Attack_Damage</th>\n",
       "      <th>Armor</th>\n",
       "      <th>Magic_Resistance</th>\n",
       "      <th>Attack_Speed</th>\n",
       "      <th>Movement_Speed</th>\n",
       "      <th>Range</th>\n",
       "    </tr>\n",
       "  </thead>\n",
       "  <tbody>\n",
       "    <tr>\n",
       "      <th>0</th>\n",
       "      <td>0</td>\n",
       "      <td>Aatrox</td>\n",
       "      <td>Fighter</td>\n",
       "      <td>Top</td>\n",
       "      <td>650</td>\n",
       "      <td>0</td>\n",
       "      <td>3.0</td>\n",
       "      <td>0</td>\n",
       "      <td>60</td>\n",
       "      <td>38</td>\n",
       "      <td>32</td>\n",
       "      <td>65</td>\n",
       "      <td>345</td>\n",
       "      <td>175</td>\n",
       "    </tr>\n",
       "    <tr>\n",
       "      <th>1</th>\n",
       "      <td>1</td>\n",
       "      <td>Ahri</td>\n",
       "      <td>Mage</td>\n",
       "      <td>Mid</td>\n",
       "      <td>570</td>\n",
       "      <td>418</td>\n",
       "      <td>2.0</td>\n",
       "      <td>8</td>\n",
       "      <td>53</td>\n",
       "      <td>18</td>\n",
       "      <td>30</td>\n",
       "      <td>66</td>\n",
       "      <td>330</td>\n",
       "      <td>550</td>\n",
       "    </tr>\n",
       "    <tr>\n",
       "      <th>2</th>\n",
       "      <td>2</td>\n",
       "      <td>Akali</td>\n",
       "      <td>Assassin</td>\n",
       "      <td>Mid</td>\n",
       "      <td>570</td>\n",
       "      <td>200</td>\n",
       "      <td>9.0</td>\n",
       "      <td>0</td>\n",
       "      <td>62</td>\n",
       "      <td>23</td>\n",
       "      <td>37</td>\n",
       "      <td>62</td>\n",
       "      <td>345</td>\n",
       "      <td>125</td>\n",
       "    </tr>\n",
       "    <tr>\n",
       "      <th>3</th>\n",
       "      <td>3</td>\n",
       "      <td>Akshan</td>\n",
       "      <td>Marksman</td>\n",
       "      <td>Mid</td>\n",
       "      <td>630</td>\n",
       "      <td>350</td>\n",
       "      <td>4.0</td>\n",
       "      <td>7</td>\n",
       "      <td>52</td>\n",
       "      <td>26</td>\n",
       "      <td>30</td>\n",
       "      <td>63</td>\n",
       "      <td>330</td>\n",
       "      <td>500</td>\n",
       "    </tr>\n",
       "    <tr>\n",
       "      <th>4</th>\n",
       "      <td>4</td>\n",
       "      <td>Alistar</td>\n",
       "      <td>Tank</td>\n",
       "      <td>Support</td>\n",
       "      <td>670</td>\n",
       "      <td>350</td>\n",
       "      <td>8.0</td>\n",
       "      <td>8</td>\n",
       "      <td>62</td>\n",
       "      <td>44</td>\n",
       "      <td>32</td>\n",
       "      <td>62</td>\n",
       "      <td>330</td>\n",
       "      <td>125</td>\n",
       "    </tr>\n",
       "    <tr>\n",
       "      <th>...</th>\n",
       "      <td>...</td>\n",
       "      <td>...</td>\n",
       "      <td>...</td>\n",
       "      <td>...</td>\n",
       "      <td>...</td>\n",
       "      <td>...</td>\n",
       "      <td>...</td>\n",
       "      <td>...</td>\n",
       "      <td>...</td>\n",
       "      <td>...</td>\n",
       "      <td>...</td>\n",
       "      <td>...</td>\n",
       "      <td>...</td>\n",
       "      <td>...</td>\n",
       "    </tr>\n",
       "    <tr>\n",
       "      <th>156</th>\n",
       "      <td>158</td>\n",
       "      <td>Zeri</td>\n",
       "      <td>Marksman</td>\n",
       "      <td>bottom</td>\n",
       "      <td>600</td>\n",
       "      <td>250</td>\n",
       "      <td>3.0</td>\n",
       "      <td>8</td>\n",
       "      <td>50</td>\n",
       "      <td>20</td>\n",
       "      <td>30</td>\n",
       "      <td>66</td>\n",
       "      <td>325</td>\n",
       "      <td>500</td>\n",
       "    </tr>\n",
       "    <tr>\n",
       "      <th>157</th>\n",
       "      <td>159</td>\n",
       "      <td>Ziggs</td>\n",
       "      <td>Mage</td>\n",
       "      <td>Mid</td>\n",
       "      <td>606</td>\n",
       "      <td>480</td>\n",
       "      <td>6.0</td>\n",
       "      <td>8</td>\n",
       "      <td>54</td>\n",
       "      <td>22</td>\n",
       "      <td>30</td>\n",
       "      <td>62</td>\n",
       "      <td>325</td>\n",
       "      <td>550</td>\n",
       "    </tr>\n",
       "    <tr>\n",
       "      <th>158</th>\n",
       "      <td>160</td>\n",
       "      <td>Zilean</td>\n",
       "      <td>Support</td>\n",
       "      <td>Support</td>\n",
       "      <td>574</td>\n",
       "      <td>452</td>\n",
       "      <td>5.0</td>\n",
       "      <td>8</td>\n",
       "      <td>52</td>\n",
       "      <td>24</td>\n",
       "      <td>30</td>\n",
       "      <td>62</td>\n",
       "      <td>335</td>\n",
       "      <td>550</td>\n",
       "    </tr>\n",
       "    <tr>\n",
       "      <th>159</th>\n",
       "      <td>161</td>\n",
       "      <td>Zoe</td>\n",
       "      <td>Mage</td>\n",
       "      <td>Mid</td>\n",
       "      <td>630</td>\n",
       "      <td>425</td>\n",
       "      <td>6.0</td>\n",
       "      <td>6</td>\n",
       "      <td>58</td>\n",
       "      <td>21</td>\n",
       "      <td>30</td>\n",
       "      <td>62</td>\n",
       "      <td>340</td>\n",
       "      <td>550</td>\n",
       "    </tr>\n",
       "    <tr>\n",
       "      <th>160</th>\n",
       "      <td>162</td>\n",
       "      <td>Zyra</td>\n",
       "      <td>Mage</td>\n",
       "      <td>Support</td>\n",
       "      <td>574</td>\n",
       "      <td>418</td>\n",
       "      <td>5.0</td>\n",
       "      <td>4</td>\n",
       "      <td>53</td>\n",
       "      <td>29</td>\n",
       "      <td>30</td>\n",
       "      <td>62</td>\n",
       "      <td>340</td>\n",
       "      <td>575</td>\n",
       "    </tr>\n",
       "  </tbody>\n",
       "</table>\n",
       "<p>161 rows × 14 columns</p>\n",
       "</div>"
      ],
      "text/plain": [
       "      ID Champion_Name Primary_Role Primary_Location  Health  Mana  \\\n",
       "0      0        Aatrox      Fighter              Top     650     0   \n",
       "1      1          Ahri         Mage              Mid     570   418   \n",
       "2      2         Akali     Assassin              Mid     570   200   \n",
       "3      3        Akshan     Marksman              Mid     630   350   \n",
       "4      4       Alistar         Tank          Support     670   350   \n",
       "..   ...           ...          ...              ...     ...   ...   \n",
       "156  158          Zeri     Marksman           bottom     600   250   \n",
       "157  159         Ziggs         Mage              Mid     606   480   \n",
       "158  160        Zilean      Support          Support     574   452   \n",
       "159  161           Zoe         Mage              Mid     630   425   \n",
       "160  162          Zyra         Mage          Support     574   418   \n",
       "\n",
       "     Health_Regen  Mana_Regen  Attack_Damage  Armor  Magic_Resistance  \\\n",
       "0             3.0           0             60     38                32   \n",
       "1             2.0           8             53     18                30   \n",
       "2             9.0           0             62     23                37   \n",
       "3             4.0           7             52     26                30   \n",
       "4             8.0           8             62     44                32   \n",
       "..            ...         ...            ...    ...               ...   \n",
       "156           3.0           8             50     20                30   \n",
       "157           6.0           8             54     22                30   \n",
       "158           5.0           8             52     24                30   \n",
       "159           6.0           6             58     21                30   \n",
       "160           5.0           4             53     29                30   \n",
       "\n",
       "     Attack_Speed  Movement_Speed  Range  \n",
       "0              65             345    175  \n",
       "1              66             330    550  \n",
       "2              62             345    125  \n",
       "3              63             330    500  \n",
       "4              62             330    125  \n",
       "..            ...             ...    ...  \n",
       "156            66             325    500  \n",
       "157            62             325    550  \n",
       "158            62             335    550  \n",
       "159            62             340    550  \n",
       "160            62             340    575  \n",
       "\n",
       "[161 rows x 14 columns]"
      ]
     },
     "execution_count": 7,
     "metadata": {},
     "output_type": "execute_result"
    }
   ],
   "source": [
    "df"
   ]
  },
  {
   "cell_type": "code",
   "execution_count": 152,
   "id": "bd19a8dd",
   "metadata": {},
   "outputs": [
    {
     "name": "stdout",
     "output_type": "stream",
     "text": [
      "Colunas do Dataset e suas quantidades de valores nulos:\n",
      "ID                  0\n",
      "Champion_Name       0\n",
      "Primary_Role        0\n",
      "Primary_Location    0\n",
      "Health              0\n",
      "Mana                0\n",
      "Health_Regen        1\n",
      "Mana_Regen          0\n",
      "Attack_Damage       0\n",
      "Armor               0\n",
      "Magic_Resistance    0\n",
      "Attack_Speed        0\n",
      "Movement_Speed      0\n",
      "Range               0\n",
      "dtype: int64\n",
      "\n",
      "---------------------------\n",
      "\n",
      "Coluna Primary_Location possui dois valores iguais escrito de forma diferente: \n",
      "['Top' 'Mid' 'Support' 'Jungle' 'bottom' 'Bottom']\n"
     ]
    }
   ],
   "source": [
    "# Printando todas as colunas e a quantidade de valores nulos.\n",
    "print(\"Colunas do Dataset e suas quantidades de valores nulos:\")\n",
    "print(df.isnull().sum())\n",
    "print(\"\\n---------------------------\\n\")\n",
    "print(\"Coluna Primary_Location possui dois valores iguais escrito de forma diferente: \")\n",
    "print(df[\"Primary_Location\"].unique())"
   ]
  },
  {
   "cell_type": "code",
   "execution_count": 153,
   "id": "54ce5fca",
   "metadata": {},
   "outputs": [],
   "source": [
    "# Tratando a coluna \"Health_Regen\" com a mediana agrupando por Primary_Role e Primary_Location\n",
    "df[\"Health_Regen\"] = df.groupby([\"Primary_Role\",\"Primary_Location\"])[\"Health_Regen\"].transform(lambda x: x.fillna(x.median()))\n",
    "\n",
    "# Tratando os valores das colunas do tipo object capitalize\n",
    "text_columns = df.select_dtypes(include=['object']).columns\n",
    "df[text_columns] = df[text_columns].apply(lambda x: x.str.capitalize())"
   ]
  },
  {
   "cell_type": "markdown",
   "id": "d7e454d9",
   "metadata": {},
   "source": [
    "### Informações do Dataset"
   ]
  },
  {
   "cell_type": "code",
   "execution_count": 154,
   "id": "611a9d01",
   "metadata": {},
   "outputs": [
    {
     "name": "stdout",
     "output_type": "stream",
     "text": [
      "O dataset possui 161 linhas e 14 colunas.\n",
      "As colunas e seus tipos são: \n",
      "ID                    int64\n",
      "Champion_Name        object\n",
      "Primary_Role         object\n",
      "Primary_Location     object\n",
      "Health                int64\n",
      "Mana                  int64\n",
      "Health_Regen        float64\n",
      "Mana_Regen            int64\n",
      "Attack_Damage         int64\n",
      "Armor                 int64\n",
      "Magic_Resistance      int64\n",
      "Attack_Speed          int64\n",
      "Movement_Speed        int64\n",
      "Range                 int64\n",
      "dtype: object\n"
     ]
    }
   ],
   "source": [
    "print(f\"O dataset possui {len(df)} linhas e {len(df.columns)} colunas.\")\n",
    "print(f\"As colunas e seus tipos são: \\n{df.dtypes}\") "
   ]
  },
  {
   "cell_type": "code",
   "execution_count": 155,
   "id": "94cdae44",
   "metadata": {},
   "outputs": [
    {
     "name": "stdout",
     "output_type": "stream",
     "text": [
      "               ID      Health        Mana  Health_Regen  Mana_Regen  \\\n",
      "count  161.000000  161.000000  161.000000    161.000000  161.000000   \n",
      "mean    81.136646  621.788820  310.608696      6.680124    5.136646   \n",
      "std     47.469661   39.391689  123.053300      5.748791    2.866829   \n",
      "min      0.000000  410.000000    0.000000      1.000000    0.000000   \n",
      "25%     40.000000  600.000000  280.000000      5.000000    4.000000   \n",
      "50%     82.000000  630.000000  330.000000      6.000000    6.000000   \n",
      "75%    122.000000  650.000000  375.000000      8.000000    8.000000   \n",
      "max    162.000000  696.000000  500.000000     55.000000    9.000000   \n",
      "\n",
      "       Attack_Damage       Armor  Magic_Resistance  Attack_Speed  \\\n",
      "count     161.000000  161.000000        161.000000    161.000000   \n",
      "mean       59.068323   29.683230         32.708075     64.565217   \n",
      "std         5.833228    6.591114         22.927505      3.936659   \n",
      "min        40.000000   17.000000         22.000000     47.000000   \n",
      "25%        55.000000   25.000000         30.000000     62.000000   \n",
      "50%        60.000000   29.000000         32.000000     64.000000   \n",
      "75%        63.000000   34.000000         32.000000     66.000000   \n",
      "max        72.000000   47.000000        321.000000     85.000000   \n",
      "\n",
      "       Movement_Speed       Range  \n",
      "count      161.000000  161.000000  \n",
      "mean       335.795031  329.378882  \n",
      "std          8.205271  192.592314  \n",
      "min        285.000000  125.000000  \n",
      "25%        330.000000  125.000000  \n",
      "50%        335.000000  200.000000  \n",
      "75%        340.000000  525.000000  \n",
      "max        355.000000  650.000000  \n"
     ]
    }
   ],
   "source": [
    "desc_stats = df.describe()\n",
    "print(desc_stats)"
   ]
  },
  {
   "cell_type": "markdown",
   "id": "1af9cbe1",
   "metadata": {},
   "source": [
    "### Correlação\n",
    "\n",
    "###### Algumas conclusões podem ser tiradas:\n",
    "<b>1º - Correlação positiva:</b> <br>\n",
    "<ul>\n",
    "<li><b>Health</b> e <b>Armor</b> têm uma correlação positiva significativa de aproximadamente 0.43, o que indica que campeões com maior <b>Health</b> tendem a ter também maior <b>Armor</b>.</li>\n",
    "<li><b>Health</b> e <b>Movement_Speed</b> também têm uma correlação positiva de cerca de 0.46, o que significa que campeões com maior <b>Health</b> tendem a ter uma maior <b>Movement_Speed</b>.</li>\n",
    "</ul>\n",
    "<b>2º - Correlação negativa:</b> <br>\n",
    "<ul>\n",
    "<li><b>Health</b> e <b>Range</b> apresentam uma correlação negativa de aproximadamente -0.46, indicando que campeões com maior <b>Health</b> tendem a ter menor <b>Range</b>.</li>\n",
    "<li><b>Attack_Damage</b> e <b>Range</b> apresentam uma correlação negativa de aproximadamente -0.64, isso significa que há uma tendência de que campeões com maior dano de ataque possuam um alcance menor em seus ataques.</li>\n",
    "</ul>"
   ]
  },
  {
   "cell_type": "code",
   "execution_count": 157,
   "id": "364b9179",
   "metadata": {},
   "outputs": [
    {
     "name": "stdout",
     "output_type": "stream",
     "text": [
      "                  Health  Mana  Health_Regen  Mana_Regen  Attack_Damage  \\\n",
      "Health              1.00 -0.24          0.16       -0.09           0.39   \n",
      "Mana               -0.24  1.00          0.05        0.71          -0.36   \n",
      "Health_Regen        0.16  0.05          1.00        0.08           0.03   \n",
      "Mana_Regen         -0.09  0.71          0.08        1.00          -0.21   \n",
      "Attack_Damage       0.39 -0.36          0.03       -0.21           1.00   \n",
      "Armor               0.43 -0.39          0.15       -0.30           0.55   \n",
      "Magic_Resistance    0.06 -0.01          0.02        0.01           0.06   \n",
      "Attack_Speed        0.16 -0.27         -0.07       -0.23           0.19   \n",
      "Movement_Speed      0.46 -0.21          0.08       -0.14           0.42   \n",
      "Range              -0.46  0.43         -0.07        0.27          -0.64   \n",
      "\n",
      "                  Armor  Magic_Resistance  Attack_Speed  Movement_Speed  Range  \n",
      "Health             0.43              0.06          0.16            0.46  -0.46  \n",
      "Mana              -0.39             -0.01         -0.27           -0.21   0.43  \n",
      "Health_Regen       0.15              0.02         -0.07            0.08  -0.07  \n",
      "Mana_Regen        -0.30              0.01         -0.23           -0.14   0.27  \n",
      "Attack_Damage      0.55              0.06          0.19            0.42  -0.64  \n",
      "Armor              1.00              0.11          0.17            0.31  -0.70  \n",
      "Magic_Resistance   0.11              1.00          0.04            0.02  -0.12  \n",
      "Attack_Speed       0.17              0.04          1.00            0.13  -0.28  \n",
      "Movement_Speed     0.31              0.02          0.13            1.00  -0.54  \n",
      "Range             -0.70             -0.12         -0.28           -0.54   1.00  \n"
     ]
    }
   ],
   "source": [
    "data = DataProcessor(df)\n",
    "df_non_numeric = data.get_numeric_data()\n",
    "df_non_numeric.drop(\"ID\", axis = 1, inplace = True)\n",
    "corr_matrix = df_non_numeric.corr()\n",
    "print(round(corr_matrix, 2))"
   ]
  },
  {
   "cell_type": "markdown",
   "id": "9b18d8e0",
   "metadata": {},
   "source": [
    "### Regressão linear\n",
    "<b> Gráfico de regressão: </b> <br>\n",
    "O gráfico de regressão linear nos fornece uma visão inicial da relação entre Attack_Damage e Health no dataset.\n",
    "É possível notar uma alta dispersão. Os pontos estão dispersos em torno da linha de regressão, o que indica uma variabilidade considerável na relação entre as variáveis. Isso significa que, embora haja uma tendência positiva, existem outros fatores que influenciam a saúde dos campeões além do dano de ataque.\n",
    "\n",
    "<b>Regressão linear com scikit-learn: </b> <br>\n",
    "O objetivo é entender a relação entre as variáveis e fazer previsões de Health com base nos valores das variáveis independentes (Attack_Damage, Armor, Magic_Resistance).\n",
    "Para cada unidade de aumento em Attack_Damage, espera-se um aumento de 1.48321745 unidades em Health, mantendo as outras variáveis constantes. Da mesma forma, para cada unidade de aumento em Armor, espera-se um aumento de 1.8376597 unidades em Health, e para cada unidade de aumento em Magic_Resistance, espera-se um aumento de 0.02692727 unidades em Health."
   ]
  },
  {
   "cell_type": "code",
   "execution_count": 158,
   "id": "f5ca9fa9",
   "metadata": {
    "scrolled": false
   },
   "outputs": [
    {
     "data": {
      "image/png": "[encoded data removed]",
      "text/plain": [
       "<Figure size 360x360 with 1 Axes>"
      ]
     },
     "metadata": {
      "needs_background": "light"
     },
     "output_type": "display_data"
    }
   ],
   "source": [
    "sns.lmplot(x='Attack_Damage', y='Health', data=df)\n",
    "\n",
    "plt.title('Regressão Linear - Attack Damage vs Health')\n",
    "plt.xlabel('Attack Damage')\n",
    "plt.ylabel('Health')\n",
    "\n",
    "plt.show()"
   ]
  },
  {
   "cell_type": "code",
   "execution_count": 159,
   "id": "2ced7b31",
   "metadata": {},
   "outputs": [
    {
     "name": "stdout",
     "output_type": "stream",
     "text": [
      "Coefficients: [1.48321745 1.8376597  0.02692727]\n",
      "Intercept: 478.7492380297252\n"
     ]
    }
   ],
   "source": [
    "x = df[['Attack_Damage', 'Armor', 'Magic_Resistance']]\n",
    "y = df['Health']\n",
    "\n",
    "reg = LinearRegression()\n",
    "reg.fit(x, y)\n",
    "\n",
    "coefficients = reg.coef_\n",
    "intercept = reg.intercept_\n",
    "print('Coefficients:', coefficients)\n",
    "print('Intercept:', intercept)"
   ]
  },
  {
   "cell_type": "markdown",
   "id": "d4a679ab",
   "metadata": {},
   "source": [
    "### Análise de frequência e proporção"
   ]
  },
  {
   "cell_type": "code",
   "execution_count": 160,
   "id": "b1b4a9f7",
   "metadata": {},
   "outputs": [
    {
     "name": "stdout",
     "output_type": "stream",
     "text": [
      "Role Counts: \n",
      "Fighter     43\n",
      "Mage        35\n",
      "Marksman    27\n",
      "Tank        22\n",
      "Assassin    18\n",
      "Support     16\n",
      "Name: Primary_Role, dtype: int64\n",
      "\n",
      "Location Counts:\n",
      "Top        40\n",
      "Mid        38\n",
      "Jungle     33\n",
      "Support    29\n",
      "Bottom     21\n",
      "Name: Primary_Location, dtype: int64\n",
      "\n",
      "Role Proportions:\n",
      "Fighter     26.71%\n",
      "Mage        21.74%\n",
      "Marksman    16.77%\n",
      "Tank        13.66%\n",
      "Assassin    11.18%\n",
      "Support      9.94%\n",
      "Name: Primary_Role, dtype: object\n",
      "\n",
      "Location Proportions:\n",
      "Top        24.84%\n",
      "Mid         23.6%\n",
      "Jungle      20.5%\n",
      "Support    18.01%\n",
      "Bottom     13.04%\n",
      "Name: Primary_Location, dtype: object\n"
     ]
    },
    {
     "data": {
      "image/png": "[encoded data removed]",
      "text/plain": [
       "<Figure size 720x432 with 1 Axes>"
      ]
     },
     "metadata": {
      "needs_background": "light"
     },
     "output_type": "display_data"
    }
   ],
   "source": [
    "role_counts = df['Primary_Role'].value_counts()\n",
    "location_counts = df['Primary_Location'].value_counts()\n",
    "\n",
    "role_proportions = df['Primary_Role'].value_counts(normalize=True).mul(100).round(2).astype(str) + '%'\n",
    "location_proportions = df['Primary_Location'].value_counts(normalize=True).mul(100).round(2).astype(str) + '%'\n",
    "\n",
    "print(f'Role Counts: \\n{role_counts}')\n",
    "print(f'\\nLocation Counts:\\n{location_counts}')\n",
    "print(f'\\nRole Proportions:\\n{role_proportions}')\n",
    "print(f'\\nLocation Proportions:\\n{location_proportions}')\n",
    "\n",
    "# Criação de uma tabela cruzada entre Primary_Role e Primary_Location\n",
    "cross_tab = pd.crosstab(df['Primary_Role'], df['Primary_Location'])\n",
    "\n",
    "cross_tab.plot(kind='bar', stacked=True, figsize=(10, 6))\n",
    "plt.title('Relação entre Primary_Role e Primary_Location')\n",
    "plt.xlabel('Primary_Role')\n",
    "plt.ylabel('Count')\n",
    "plt.legend(title='Primary_Location')\n",
    "plt.show()"
   ]
  },
  {
   "cell_type": "code",
   "execution_count": null,
   "id": "b1502904",
   "metadata": {},
   "outputs": [],
   "source": []
  }
 ],
 "metadata": {
  "kernelspec": {
   "display_name": "Python 3 (ipykernel)",
   "language": "python",
   "name": "python3"
  },
  "language_info": {
   "codemirror_mode": {
    "name": "ipython",
    "version": 3
   },
   "file_extension": ".py",
   "mimetype": "text/x-python",
   "name": "python",
   "nbconvert_exporter": "python",
   "pygments_lexer": "ipython3",
   "version": "3.9.12"
  }
 },
 "nbformat": 4,
 "nbformat_minor": 5
}
